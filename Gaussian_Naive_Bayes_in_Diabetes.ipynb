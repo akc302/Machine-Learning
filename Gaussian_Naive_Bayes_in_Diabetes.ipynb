{
  "nbformat": 4,
  "nbformat_minor": 0,
  "metadata": {
    "colab": {
      "name": "Gaussian Naive Bayes in Diabetes.ipynb",
      "provenance": []
    },
    "kernelspec": {
      "name": "python3",
      "display_name": "Python 3"
    }
  },
  "cells": [
    {
      "cell_type": "code",
      "metadata": {
        "id": "4ku-nvKvbJMA",
        "colab_type": "code",
        "colab": {
          "base_uri": "https://localhost:8080/",
          "height": 406
        },
        "outputId": "deeeb7fd-a9d0-4693-99df-a3dcf8a98428"
      },
      "source": [
        "import numpy as np\n",
        "import pandas as pd\n",
        "import matplotlib.pyplot as plt\n",
        "from sklearn.naive_bayes import GaussianNB\n",
        "from sklearn import model_selection\n",
        "from sklearn.metrics import f1_score\n",
        "from sklearn.model_selection import train_test_split\n",
        "from sklearn.metrics import classification_report\n",
        "from sklearn.metrics import confusion_matrix\n",
        "from sklearn.metrics import accuracy_score\n",
        "from sklearn.metrics import plot_confusion_matrix\n",
        "from sklearn.metrics import recall_score\n",
        "from sklearn.metrics import precision_score\n",
        "from sklearn.metrics import average_precision_score\n",
        "from sklearn import metrics\n",
        "\n",
        "df=pd.read_csv('/content/drive/My Drive/Capstone @ashraf/datasets_228_482_diabetes.csv')\n",
        "\n",
        "clf = GaussianNB()\n",
        "\n",
        "array = df.values\n",
        "X = array[:,1:5]\n",
        "Y = array[:,8]\n",
        "\n",
        "validation_size = 0.33\n",
        "seed = 7\n",
        "X_train, X_validation, Y_train, Y_validation = model_selection.train_test_split(X, Y, test_size=validation_size, random_state=seed)\n",
        "\n",
        "scoring = 'accuracy'\n",
        "\n",
        "clf.fit(X_train, Y_train) \n",
        "\n",
        "\n",
        "pred_clf = clf.predict(X_validation)\n",
        "\n",
        "print(\"Accuracy:\",metrics.accuracy_score(Y_validation, pred_clf))\n",
        "print(\"avg precision:\",average_precision_score(Y_validation, pred_clf))\n",
        "print(\"Recall: \", recall_score(Y_validation,pred_clf))\n",
        "print(\"F1 score:\",f1_score(Y_validation,pred_clf))\n",
        "print(\"precision score\",precision_score(Y_validation,pred_clf) )\n",
        "cm = confusion_matrix(Y_validation,pred_clf)\n",
        "print(cm)\n",
        "disp = plot_confusion_matrix(clf,X_validation, Y_validation)"
      ],
      "execution_count": 44,
      "outputs": [
        {
          "output_type": "stream",
          "text": [
            "Accuracy: 0.7440944881889764\n",
            "avg precision: 0.5391855662310986\n",
            "Recall:  0.5652173913043478\n",
            "F1 score: 0.6153846153846153\n",
            "precision score 0.6753246753246753\n",
            "[[137  25]\n",
            " [ 40  52]]\n"
          ],
          "name": "stdout"
        },
        {
          "output_type": "display_data",
          "data": {
            "image/png": "[encoded data removed]",
            "text/plain": [
              "<Figure size 432x288 with 2 Axes>"
            ]
          },
          "metadata": {
            "tags": [],
            "needs_background": "light"
          }
        }
      ]
    },
    {
      "cell_type": "code",
      "metadata": {
        "id": "SXlcQophbwT5",
        "colab_type": "code",
        "colab": {
          "base_uri": "https://localhost:8080/",
          "height": 122
        },
        "outputId": "e3d7f46f-1356-46b2-fa5a-18d19a3e3573"
      },
      "source": [
        "from google.colab import drive\n",
        "drive.mount('/content/drive')"
      ],
      "execution_count": null,
      "outputs": [
        {
          "output_type": "stream",
          "text": [
            "Go to this URL in a browser: https://accounts.google.com/o/oauth2/auth?client_id=947318989803-6bn6qk8qdgf4n4g3pfee6491hc0brc4i.apps.googleusercontent.com&redirect_uri=urn%3aietf%3awg%3aoauth%3a2.0%3aoob&response_type=code&scope=email%20https%3a%2f%2fwww.googleapis.com%2fauth%2fdocs.test%20https%3a%2f%2fwww.googleapis.com%2fauth%2fdrive%20https%3a%2f%2fwww.googleapis.com%2fauth%2fdrive.photos.readonly%20https%3a%2f%2fwww.googleapis.com%2fauth%2fpeopleapi.readonly\n",
            "\n",
            "Enter your authorization code:\n",
            "··········\n",
            "Mounted at /content/drive\n"
          ],
          "name": "stdout"
        }
      ]
    }
  ]
}